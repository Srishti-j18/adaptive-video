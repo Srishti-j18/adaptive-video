{
 "cells": [
  {
   "cell_type": "markdown",
   "metadata": {},
   "source": [
    "# Adaptive video\n",
    "\n",
    "This experiment explores the tradeoff between different metrics of video quality (average rate, interruptions, and variability of rate) in an adaptive video delivery system.\n",
    "\n",
    "It should take about 60-120 minutes to run this experiment.\n",
    "\n",
    "### FABRIC instructions\n",
    "\n",
    "To run this experiment on FABRIC, in a bash terminal in your FABRIC JupyterHub environment run\n",
    "\n",
    "    git clone --recurse-submodules https://github.com/teaching-on-testbeds/adaptive-video.git\n",
    "\n",
    "Then open the [start_here_fabric.ipynb](start_here_fabric.ipynb) notebook and follow along with the instructions there.\n",
    "\n",
    "### CloudLab instructions\n",
    "\n",
    "To run this experiment on CloudLab, instantiate the profile at\n",
    "\n",
    "<https://www.cloudlab.us/p/cl-education/adaptive-video>\n",
    "\n",
    "and follow the instructions there.\n",
    "\n",
    "### GENI instructions\n",
    "\n",
    "Follow the instructions at\n",
    "\n",
    "<https://witestlab.poly.edu/blog/adaptive-video-reproducing/>\n",
    "\n",
    "to run this experiment on GENI."
   ]
  }
 ],
 "nbformat": 4,
 "nbformat_minor": 0,
 "metadata": {
  "kernelspec": {
   "name": "python",
   "display_name": "Python 3"
  }
 }
}
