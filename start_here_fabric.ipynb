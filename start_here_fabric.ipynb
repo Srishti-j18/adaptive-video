{
 "cells": [
  {
   "cell_type": "markdown",
   "metadata": {},
   "source": [
    "Adaptive video\n",
    "==============\n",
    "\n",
    "*Fraida Fund ffund@nyu.edu*\n",
    "\n",
    "This experiment explores the tradeoff between different metrics of video quality (average rate, interruptions, and variability of rate) in an adaptive video delivery system.\n",
    "\n",
    "It should take about 60-120 minutes to run this experiment.\n",
    "\n",
    "**Preqreuisites**: To run this experiment on [FABRIC](https://fabric-testbed.net/), you should have a FABRIC account and be part of a FABRIC project. You should have already configured your JupyterHub environment in FABRIC following the instructions [here](https://github.com/fabric-testbed/jupyter-examples/blob/master/fabric_examples/fablib_api/configure_environment/configure_environment.ipynb).\n",
    "\n",
    "-   [Background](notebooks/background.ipynb)\n",
    "-   [Reserve resources on FABRIC](notebooks/reserve_resources_fabric.ipynb)\n",
    "-   [Set up the adaptive video experiment](notebooks/setup_adaptive_video.ipynb)\n",
    "-   [Execute the constant bit rate experiment](notebooks/exec_cbr.ipynb)\n",
    "-   [Data analysis](notebooks/data_analysis_fabric.ipynb)\n",
    "-   [Execute the constant bit rate experiment with interruption](notebooks/exec_interruption.ipynb)\n",
    "-   [Execute Constant Bit Rate Experiment with Interruption and Policy Comparison](notebooks/exec_policy.ipynb)\n",
    "-   [Data analysis for Policies](notebooks/data_analysis_fabric.ipynb)\n",
    "-   [Execute the varying bit rate experiment (mobile user)](notebooks/exec_vary.ipynb)\n",
    "-   [Exercises](notebooks/exercises.ipynb)\n",
    "-   [Write your own adaptive video policy!](notebooks/go_further.ipynb)"
   ]
  }
 ],
 "nbformat": 4,
 "nbformat_minor": 0,
 "metadata": {
  "kernelspec": {
   "name": "python",
   "display_name": "Python 3"
  }
 }
}
