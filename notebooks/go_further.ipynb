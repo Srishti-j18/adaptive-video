{
 "cells": [
  {
   "cell_type": "markdown",
   "metadata": {},
   "source": [
    "Write your own adaptive video policy\n",
    "------------------------------------\n",
    "\n",
    "Do you think you can improve on these adaptive video policies?\n",
    "\n",
    "To write you own adaptive video policy, open basic_dash2.py file that was cloned to your jupyter environment by clicking this link: \n",
    "\n",
    "[AStream/dist/client/adaptation/basic_dash2.py](AStream/dist/client/adaptation/basic_dash2.py)\n",
    "\n",
    "Based on your observations from before, make your own changes to this policy and save it.\n",
    "\n",
    "SCP locally modified policy file to your client romeo such that it replaces previous basic_dash2.py file inside adaptive-video/AStream/dist/client/adaptation/ location.\n",
    "\n",
    "Re-run constant bit rate, constant bit rate with interruption and mobile user experiments to analyze the performance of your policy."
   ]
  }
 ],
 "nbformat": 4,
 "nbformat_minor": 0,
 "metadata": {
  "kernelspec": {
   "name": "python",
   "display_name": "Python 3"
  }
 }
}
