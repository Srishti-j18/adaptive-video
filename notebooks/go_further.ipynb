{
 "cells": [
  {
   "cell_type": "markdown",
   "metadata": {},
   "source": [
    "## Modify the adaptive video policy\n",
    "\n",
    "Do you think you can improve on these adaptive video policies? You can modify the parameters of the adaptive video policies, or even go further and modify the logic in the Python code. Then, you can deploy your modified version to see its effect."
   ]
  },
  {
   "cell_type": "code",
   "execution_count": null,
   "metadata": {},
   "outputs": [],
   "source": [
    "from fabrictestbed_extensions.fablib.fablib import FablibManager as fablib_manager\n",
    "fablib = fablib_manager()                     \n",
    "\n",
    "slice_name=\"adaptive-video-\" + fablib.get_bastion_username()\n",
    "slice = fablib.get_slice(name=slice_name)"
   ]
  },
  {
   "cell_type": "markdown",
   "metadata": {},
   "source": [
    "To modify the parameters of the adaptive video policies, open this file: [config_dash.py](../AStream/dist/client/config_dash.py).\n",
    "\n",
    "Key factors defined here for the rate based (“basic”) policy include:\n",
    "\n",
    "-   `BASIC_THRESHOLD` - the maximum number of segments to store in the buffer in the rate based (“basic”) policy.\n",
    "-   `BASIC_UPPER_THRESHOLD` - to avoid oscillations, in the rate based (“basic”) policy, the video rate increases or decreases only if it is different from the download rate by at least this factor.\n",
    "-   `BASIC_DELTA_COUNT` - the number of segments’ download rate to include in the moving average of network download rate. The smaller this number, the more reactive the client is to (potentially transient!) changes in network rate.\n",
    "\n",
    "Key factors defined here for the buffer based (“netflix”) policy include:\n",
    "\n",
    "-   `NETFLIX_RESERVOIR` - the value of the “reservoir” described above, as a fraction of total buffer size.\n",
    "-   `NETFLIX_CUSHION` - the value of the “cushion” described above, as a fraction of total buffer size.\n",
    "-   `NETFLIX_BUFFER_SIZE` - the maximum number of segments to store in the buffer in the buffer based (“netflix”) policy.\n",
    "-   `NETFLIX_INITIAL_BUFFER` and `NETFLIX_INITIAL_FACTOR` - these define the behavior of the policy in the initial stage, which is a bit different than the approach described above.\n",
    "\n",
    "Make your changes to this file. Then, run the following cell to copy it to the client (“romeo”):"
   ]
  },
  {
   "cell_type": "code",
   "execution_count": null,
   "metadata": {},
   "outputs": [],
   "source": [
    "slice.get_node(\"romeo\").upload_file(\"../AStream/dist/client/config_dash.py\", \"/home/ubuntu/AStream/dist/client/config_dash.py\")"
   ]
  },
  {
   "cell_type": "markdown",
   "metadata": {},
   "source": [
    "To modify the logic in the source code for the rate based (“basic”) policy, open this file: [basic_dash2.py](../AStream/dist/client/adaptation/basic_dash2.py)\n",
    "\n",
    "Make your changes to this file. Then, run the following cell to copy it to the client (“romeo”):"
   ]
  },
  {
   "cell_type": "code",
   "execution_count": null,
   "metadata": {},
   "outputs": [],
   "source": [
    "slice.get_node(\"romeo\").upload_file(\"../AStream/dist/client/adaptation/basic_dash2.py\", \"/home/ubuntu/AStream/dist/client/adaptation/basic_dash2.py\")"
   ]
  },
  {
   "cell_type": "markdown",
   "metadata": {},
   "source": [
    "To modify the logic in the source code for the buffer based (“netflix”) policy, open this file: [netflix_dash.py](../AStream/dist/client/adaptation/netflix_dash.py)\n",
    "\n",
    "Make your changes to this file. Then, run the following cell to copy it to the client (“romeo”):"
   ]
  },
  {
   "cell_type": "code",
   "execution_count": null,
   "metadata": {},
   "outputs": [],
   "source": [
    "slice.get_node(\"romeo\").upload_file(\"../AStream/dist/client/adaptation/netflix_dash.py\", \"/home/ubuntu/AStream/dist/client/adaptation/netflix_dash.py\")"
   ]
  },
  {
   "cell_type": "markdown",
   "metadata": {},
   "source": [
    "Then, re-run your experiment and data analysis to analyze the performance of your policy."
   ]
  }
 ],
 "nbformat": 4,
 "nbformat_minor": 0,
 "metadata": {
  "kernelspec": {
   "name": "python",
   "display_name": "Python 3"
  }
 }
}
