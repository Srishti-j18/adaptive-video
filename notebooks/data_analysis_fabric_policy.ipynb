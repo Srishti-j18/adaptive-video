{
 "cells": [
  {
   "cell_type": "markdown",
   "metadata": {},
   "source": [
    "Data analysis\n",
    "-------------\n",
    "\n",
    "After each experiment run (with different variations in experiment conditions!) we can see the video that was delivered to the client, and also see how the video client made its decisions."
   ]
  },
  {
   "cell_type": "markdown",
   "metadata": {},
   "source": [
    "First, run this cell to make sure your FABRIC configuration and slice configuration is loaded."
   ]
  },
  {
   "cell_type": "code",
   "execution_count": null,
   "metadata": {},
   "outputs": [],
   "source": [
    "import os\n",
    "os.environ['FABRIC_RC_FILE']=os.environ['HOME']+'/work/fabric_config/fabric_rc'\n",
    "os.environ['FABRIC_BASTION_SSH_CONFIG_FILE']=os.environ['HOME']+'/work/fabric_config/ssh_config'\n",
    "\n",
    "from fabrictestbed_extensions.fablib.fablib import FablibManager as fablib_manager\n",
    "fablib = fablib_manager()                     \n",
    "\n",
    "SLICENAME=fablib.get_bastion_username() + \"_adaptive_video\"\n",
    "slice = fablib.get_slice(name=SLICENAME)"
   ]
  },
  {
   "cell_type": "markdown",
   "metadata": {},
   "source": [
    "Then, you can use the log files to find out how the video client made its decisions. In the following cell, fill in the `DASH_BUFFER_LOG` log file name as you named for basic policy experiment i.e. `DASH_BUFFER_LOG-basic.csv`"
   ]
  },
  {
   "cell_type": "code",
   "execution_count": null,
   "metadata": {},
   "outputs": [],
   "source": [
    "DASH_BUFFER_LOG=\"DASH_BUFFER_LOG-basic.csv\"\n",
    "slice.get_node(\"romeo\").download_file(\"/home/fabric/work/DASH_BUFFER_LOG.csv\", \"/home/ubuntu/ASTREAM_LOGS/\" + DASH_BUFFER_LOG)"
   ]
  },
  {
   "cell_type": "markdown",
   "metadata": {},
   "source": [
    "and use the following cell to create a visualization. In the following plot, the line shows the bit rate of each segment as it is played back over time, and the colored background indicates whether the client is playing video (light cyan) or buffering (light pink)."
   ]
  },
  {
   "cell_type": "code",
   "execution_count": null,
   "metadata": {},
   "outputs": [],
   "source": [
    "import matplotlib.pyplot as plt\n",
    "import pandas as pd\n",
    "\n",
    "c = {'INITIAL_BUFFERING': 'violet', 'PLAY': 'lightcyan', 'BUFFERING': 'lightpink'}\n",
    "\n",
    "dash = pd.read_csv(\"/home/fabric/work/DASH_BUFFER_LOG.csv\")\n",
    "dash = dash.loc[dash.CurrentPlaybackState.isin(c.keys() )]\n",
    "states = pd.DataFrame({'startState': dash.CurrentPlaybackState[0:-2].values, 'startTime': dash.EpochTime[0:-2].values,\n",
    "                        'endState':  dash.CurrentPlaybackState[1:-1].values, 'endTime':   dash.EpochTime[1:-1].values})\n",
    "\n",
    "\n",
    "for index, s in states.iterrows():\n",
    "  plt.axvspan(s['startTime'], s['endTime'],  color=c[s['startState']], alpha=1) \n",
    "\n",
    "plt.plot(dash[dash.Action!=\"Writing\"].EpochTime, dash[dash.Action!=\"Writing\"].Bitrate, 'kx:')\n",
    "plt.title(\"Video rate (bps)\");\n",
    "plt.xlabel(\"Time (s)\");"
   ]
  },
  {
   "cell_type": "markdown",
   "metadata": {},
   "source": [
    "Then, you can do the same for netflix policy’s log file In the following cell, fill in the `DASH_BUFFER_LOG` log file name as you named for netflix policy experiment i.e. `DASH_BUFFER_LOG-netflix.csv`"
   ]
  },
  {
   "cell_type": "code",
   "execution_count": null,
   "metadata": {},
   "outputs": [],
   "source": [
    "DASH_BUFFER_LOG=\"DASH_BUFFER_LOG-netflix.csv\"\n",
    "slice.get_node(\"romeo\").download_file(\"/home/fabric/work/DASH_BUFFER_LOG.csv\", \"/home/ubuntu/ASTREAM_LOGS/\" + DASH_BUFFER_LOG)"
   ]
  },
  {
   "cell_type": "markdown",
   "metadata": {},
   "source": [
    "and use the following cell to create a visualization. In the following plot, the line shows the bit rate of each segment as it is played back over time, and the colored background indicates whether the client is playing video (light cyan) or buffering (light pink)."
   ]
  },
  {
   "cell_type": "code",
   "execution_count": null,
   "metadata": {},
   "outputs": [],
   "source": [
    "import matplotlib.pyplot as plt\n",
    "import pandas as pd\n",
    "\n",
    "c = {'INITIAL_BUFFERING': 'violet', 'PLAY': 'lightcyan', 'BUFFERING': 'lightpink'}\n",
    "\n",
    "dash = pd.read_csv(\"/home/fabric/work/DASH_BUFFER_LOG.csv\")\n",
    "dash = dash.loc[dash.CurrentPlaybackState.isin(c.keys() )]\n",
    "states = pd.DataFrame({'startState': dash.CurrentPlaybackState[0:-2].values, 'startTime': dash.EpochTime[0:-2].values,\n",
    "                        'endState':  dash.CurrentPlaybackState[1:-1].values, 'endTime':   dash.EpochTime[1:-1].values})\n",
    "\n",
    "\n",
    "for index, s in states.iterrows():\n",
    "  plt.axvspan(s['startTime'], s['endTime'],  color=c[s['startState']], alpha=1) \n",
    "\n",
    "plt.plot(dash[dash.Action!=\"Writing\"].EpochTime, dash[dash.Action!=\"Writing\"].Bitrate, 'kx:')\n",
    "plt.title(\"Video rate (bps)\");\n",
    "plt.xlabel(\"Time (s)\");"
   ]
  }
 ],
 "nbformat": 4,
 "nbformat_minor": 0,
 "metadata": {
  "kernelspec": {
   "name": "python",
   "display_name": "Python 3"
  }
 }
}
