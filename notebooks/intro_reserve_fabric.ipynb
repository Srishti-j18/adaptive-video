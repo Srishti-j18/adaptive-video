{
 "cells": [
  {
   "cell_type": "markdown",
   "metadata": {},
   "source": [
    "## Reserve resources on FABRIC\n",
    "\n",
    "In this section, we’ll reserve and configure resources on the FABRIC testbed."
   ]
  }
 ],
 "nbformat": 4,
 "nbformat_minor": 0,
 "metadata": {
  "kernelspec": {
   "name": "python",
   "display_name": "Python 3"
  }
 }
}
