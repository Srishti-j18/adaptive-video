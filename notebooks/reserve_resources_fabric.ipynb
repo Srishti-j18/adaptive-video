{
 "cells": [
  {
   "cell_type": "markdown",
   "metadata": {},
   "source": [
    "Reserve resources on FABRIC\n",
    "---------------------------"
   ]
  },
  {
   "cell_type": "markdown",
   "metadata": {},
   "source": [
    "For this experiment, we will use three virtual machines, connected in a linear topology: a client, a router, and a server. In this section, you will reserve and configure these resources on FABRIC."
   ]
  },
  {
   "cell_type": "markdown",
   "metadata": {},
   "source": [
    "### Load your FABRIC configuration"
   ]
  },
  {
   "cell_type": "markdown",
   "metadata": {},
   "source": [
    "The following instructions assume you have already configured your JupyterHub environment in a previous session, including creating the `fabric_rc` and `ssh_config` files. If you haven’t, you should do that first - it’s a prerequisite for this experiment."
   ]
  },
  {
   "cell_type": "markdown",
   "metadata": {},
   "source": [
    "Load your FABRIC configuration options, then check to make sure the configuration looks correct:"
   ]
  },
  {
   "cell_type": "code",
   "execution_count": null,
   "metadata": {},
   "outputs": [],
   "source": [
    "import os\n",
    "os.environ['FABRIC_RC_FILE']=os.environ['HOME']+'/work/fabric_config/fabric_rc'\n",
    "os.environ['FABRIC_BASTION_SSH_CONFIG_FILE']=os.environ['HOME']+'/work/fabric_config/ssh_config'\n",
    "\n",
    "from fabrictestbed_extensions.fablib.fablib import FablibManager as fablib_manager\n",
    "fablib = fablib_manager()                     \n",
    "fablib.show_config()"
   ]
  },
  {
   "cell_type": "markdown",
   "metadata": {},
   "source": [
    "Make sure the private key file you will use to access resources has the appropriate permissions:"
   ]
  },
  {
   "cell_type": "code",
   "execution_count": null,
   "metadata": {},
   "outputs": [],
   "source": [
    "os.environ['FABRIC_SLICE_PRIVATE_KEY_FILE'] = fablib.get_default_slice_private_key_file()\n",
    "os.environ['FABRIC_BASTION_PRIVATE_KEY_FILE'] = fablib.get_bastion_key_filename()"
   ]
  },
  {
   "cell_type": "code",
   "execution_count": null,
   "metadata": {},
   "outputs": [],
   "source": [
    "%%bash \n",
    "chmod 0600 \"$FABRIC_SLICE_PRIVATE_KEY_FILE\"\n",
    "chmod 400 \"$FABRIC_BASTION_PRIVATE_KEY_FILE\""
   ]
  },
  {
   "cell_type": "markdown",
   "metadata": {},
   "source": [
    "### Prepare a slice for this experiment"
   ]
  },
  {
   "cell_type": "markdown",
   "metadata": {},
   "source": [
    "If everything looks good, let’s set up a slice! We’ll name our slice for this experiment using a combination of your username and the name `adaptive_video`:"
   ]
  },
  {
   "cell_type": "code",
   "execution_count": null,
   "metadata": {},
   "outputs": [],
   "source": [
    "SLICENAME=fablib.get_bastion_username() + \"_adaptive_video\""
   ]
  },
  {
   "cell_type": "markdown",
   "metadata": {},
   "source": [
    "If you already have the resources for this experiment (for example: you ran this part of the notebook previously, and are now returning to pick off where you left off), you don’t need to reserve resources again. If the following cell tells you that you already have resources, you can just skip ahead to the part of the experiment where you left off last."
   ]
  },
  {
   "cell_type": "code",
   "execution_count": null,
   "metadata": {},
   "outputs": [],
   "source": [
    "try:\n",
    "    fablib.get_slice(SLICENAME)\n",
    "    print(\"You already have a slice named %s.\\nYou should skip the 'Reserve resources in your slice' section.\" % SLICENAME)\n",
    "    slice = fablib.get_slice(name=SLICENAME)\n",
    "except:\n",
    "    print(\"You don't have any active slice named %s.\\nKeep going to set one up!\" % SLICENAME)"
   ]
  },
  {
   "cell_type": "markdown",
   "metadata": {},
   "source": [
    "### Reserve resources in your slice"
   ]
  },
  {
   "cell_type": "markdown",
   "metadata": {},
   "source": [
    "If you don’t already have a slice with the resources for this experiment, you’ll reserve one now! First, you’ll select a FABRIC site on which to run your experiment.\n",
    "\n",
    "The following cell will select a random FABRIC site. Check the output of this cell and make sure the selected site has sufficient resources - for this experiment, your selected site should have at least:\n",
    "\n",
    "-   3 cores (1 per VM)\n",
    "-   12 GB RAM (4 GB per VM)\n",
    "-   30 GB disk space (10 GB per VM)\n",
    "\n",
    "Re-run the cell to select a new random site until you find one with available resources."
   ]
  },
  {
   "cell_type": "code",
   "execution_count": null,
   "metadata": {},
   "outputs": [],
   "source": [
    "import random\n",
    "SITE = random.choice(fablib.get_site_names())\n",
    "print(f\"{fablib.show_site(SITE)}\")"
   ]
  },
  {
   "cell_type": "markdown",
   "metadata": {},
   "source": [
    "Once you have selected a site, you can reserve resources at that site. The following cell will set up your resource request and then submit it to FABRIC.\n",
    "\n",
    "The output of the cell will update automatically as your slice status changes. It may take a while (5-10 minutes) before this process is complete and the “Slice State” changes to “StableOK”."
   ]
  },
  {
   "cell_type": "code",
   "execution_count": null,
   "metadata": {},
   "outputs": [],
   "source": [
    "slice = fablib.new_slice(name=SLICENAME)\n",
    "\n",
    "nodes = {'romeo': None, 'juliet': None, 'router': None}\n",
    "for key,val in nodes.items():\n",
    "    nodes[key] = slice.add_node(name=key,  site=SITE, cores=1, ram=4, disk=10, image='default_ubuntu_20')\n",
    "\n",
    "iface_net_r = [\n",
    "    nodes['romeo'].add_component(model=\"NIC_Basic\", name=\"if_romeo\").get_interfaces()[0],\n",
    "    nodes['router'].add_component(model=\"NIC_Basic\", name=\"if_router_r\").get_interfaces()[0]\n",
    "]\n",
    "slice.add_l2network(name='net_r', type='L2Bridge', interfaces=iface_net_r)\n",
    "\n",
    "iface_net_j = [\n",
    "    nodes['juliet'].add_component(model=\"NIC_Basic\", name=\"if_juliet\").get_interfaces()[0],\n",
    "    nodes['router'].add_component(model=\"NIC_Basic\", name=\"if_router_j\").get_interfaces()[0]\n",
    "]\n",
    "slice.add_l2network(name='net_j', type='L2Bridge', interfaces=iface_net_j)\n",
    "\n",
    "slice.submit()"
   ]
  },
  {
   "cell_type": "markdown",
   "metadata": {},
   "source": [
    "When it is done, verify that the slice status is “StableOK”:"
   ]
  },
  {
   "cell_type": "code",
   "execution_count": null,
   "metadata": {},
   "outputs": [],
   "source": [
    "print(f\"{slice}\")"
   ]
  },
  {
   "cell_type": "markdown",
   "metadata": {},
   "source": [
    "### Configure your slice"
   ]
  },
  {
   "cell_type": "markdown",
   "metadata": {},
   "source": [
    "Before we start our experiment, we need to configure the resources and the network on this slice."
   ]
  },
  {
   "cell_type": "markdown",
   "metadata": {},
   "source": [
    "We’ll install some software on the end hosts. This cell may take another 10 minutes, and no output will appear until it is finished running:"
   ]
  },
  {
   "cell_type": "code",
   "execution_count": null,
   "metadata": {},
   "outputs": [],
   "source": [
    "slice.get_node(\"romeo\").execute(\"sudo apt update; sudo apt -y install net-tools iperf3 moreutils\")\n",
    "slice.get_node(\"juliet\").execute(\"sudo apt update; sudo apt -y install net-tools iperf3 moreutils\")\n",
    "slice.get_node(\"router\").execute(\"sudo apt update; sudo apt -y install net-tools\")\n"
   ]
  },
  {
   "cell_type": "markdown",
   "metadata": {},
   "source": [
    "Next, we will set up networking."
   ]
  },
  {
   "cell_type": "markdown",
   "metadata": {},
   "source": [
    "The following cell will make sure that the FABRIC nodes can reach targets on the Internet (e.g. to retrieve files or software), even if the FABRIC nodes connect to the Internet through IPv6 and the targetes on the Internet are IPv4 only, by using [nat64](https://nat64.net/)."
   ]
  },
  {
   "cell_type": "code",
   "execution_count": null,
   "metadata": {},
   "outputs": [],
   "source": [
    "for node in [\"romeo\", \"juliet\", \"router\"]:\n",
    "    slice.get_node(node).execute('sudo sed -i \"1s/^/nameserver 2a01:4f9:c010:3f02::1\\\\n/\" /etc/resolv.conf')\n",
    "    slice.get_node(node).execute('echo \"127.0.0.1 $(hostname -s)\" | sudo tee -a /etc/hosts')"
   ]
  },
  {
   "cell_type": "code",
   "execution_count": null,
   "metadata": {},
   "outputs": [],
   "source": [
    "# configure an IP address on every experiment interface\n",
    "from ipaddress import IPv4Address, IPv4Network\n",
    "slice.get_interface(\"romeo-if_romeo-p1\").ip_addr_add(IPv4Address('192.168.0.2'), IPv4Network('192.168.0.0/24'))\n",
    "slice.get_interface(\"router-if_router_r-p1\").ip_addr_add(IPv4Address('192.168.0.1'), IPv4Network('192.168.0.0/24'))\n",
    "slice.get_interface(\"router-if_router_j-p1\").ip_addr_add(IPv4Address('192.168.1.1'), IPv4Network('192.168.1.0/24'))\n",
    "slice.get_interface(\"juliet-if_juliet-p1\").ip_addr_add(IPv4Address('192.168.1.2'), IPv4Network('192.168.1.0/24'))\n",
    "\n",
    "# bring all the interfaces up\n",
    "slice.get_interface(\"romeo-if_romeo-p1\").ip_link_up()\n",
    "slice.get_interface(\"router-if_router_r-p1\").ip_link_up()\n",
    "slice.get_interface(\"router-if_router_j-p1\").ip_link_up()\n",
    "slice.get_interface(\"juliet-if_juliet-p1\").ip_link_up()\n",
    "\n",
    "# enable IP forwarding on router\n",
    "slice.get_node(\"router\").execute(\"sudo sysctl -w net.ipv4.ip_forward=1\")\n",
    "\n",
    "# add a route on each host to reach the other host via router\n",
    "slice.get_node(\"romeo\").ip_route_add(IPv4Network('192.168.1.0/24'), IPv4Address('192.168.0.1'))\n",
    "slice.get_node(\"juliet\").ip_route_add(IPv4Network('192.168.0.0/24'), IPv4Address('192.168.1.1'))"
   ]
  },
  {
   "cell_type": "markdown",
   "metadata": {},
   "source": [
    "To validate this setup, we will run a `ping` test from “romeo” to “juliet”. The following cell *must* return `True`."
   ]
  },
  {
   "cell_type": "code",
   "execution_count": null,
   "metadata": {},
   "outputs": [],
   "source": [
    "slice.get_node(\"romeo\").ping_test('192.168.0.2')"
   ]
  },
  {
   "cell_type": "markdown",
   "metadata": {},
   "source": [
    "### Get login details for your slice"
   ]
  },
  {
   "cell_type": "markdown",
   "metadata": {},
   "source": [
    "Now we can get the SSH command to log in to each host in the slice."
   ]
  },
  {
   "cell_type": "code",
   "execution_count": null,
   "metadata": {},
   "outputs": [],
   "source": [
    "for node in slice.get_nodes():\n",
    "    print(f\"{node.get_name()}: {node.get_ssh_command()} -F {os.environ['FABRIC_BASTION_SSH_CONFIG_FILE']}\")"
   ]
  },
  {
   "cell_type": "markdown",
   "metadata": {},
   "source": [
    "To open an SSH session on any host, use File \\> New \\> Terminal. Copy the SSH command from the output of the cell above to this terminal session, and use it to log in to the remote host."
   ]
  }
 ],
 "metadata": {
  "kernelspec": {
   "display_name": "Python 3 (ipykernel)",
   "language": "python",
   "name": "python3"
  },
  "language_info": {
   "codemirror_mode": {
    "name": "ipython",
    "version": 3
   },
   "file_extension": ".py",
   "mimetype": "text/x-python",
   "name": "python",
   "nbconvert_exporter": "python",
   "pygments_lexer": "ipython3",
   "version": "3.9.7"
  }
 },
 "nbformat": 4,
 "nbformat_minor": 4
}
