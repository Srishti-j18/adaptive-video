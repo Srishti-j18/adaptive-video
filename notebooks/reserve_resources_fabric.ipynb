{
 "cells": [
  {
   "cell_type": "markdown",
   "metadata": {},
   "source": [
    "## Reserve resources on FABRIC\n",
    "\n",
    "In this section, we’ll reserve and configure resources on the FABRIC testbed."
   ],
   "id": "61bb4f3f-9a59-4e28-ae00-743a04fa31eb"
  },
  {
   "cell_type": "markdown",
   "metadata": {},
   "source": [
    "### Configure environment"
   ],
   "id": "d9a0619f-42a3-464f-a101-48b10fe43de8"
  },
  {
   "cell_type": "code",
   "execution_count": null,
   "metadata": {},
   "outputs": [],
   "source": [
    "from fabrictestbed_extensions.fablib.fablib import FablibManager as fablib_manager\n",
    "fablib = fablib_manager() \n",
    "conf = fablib.show_config()"
   ],
   "id": "5e108dfe-67b8-49ee-9efa-3d5ce04655db"
  },
  {
   "cell_type": "markdown",
   "metadata": {},
   "source": [
    "### Define FABRIC configuration for adaptive video experiment"
   ],
   "id": "f850818c-387f-4708-bc75-95cfb4495d9f"
  },
  {
   "cell_type": "code",
   "execution_count": null,
   "metadata": {},
   "outputs": [],
   "source": [
    "slice_name=\"adaptive-video-\" + fablib.get_bastion_username()\n",
    "\n",
    "node_conf = [\n",
    " {'name': \"romeo\",   'cores': 2, 'ram': 4, 'disk': 10, 'image': 'default_ubuntu_20', 'packages': ['net-tools', 'iperf3', 'moreutils']}, \n",
    " {'name': \"juliet\",  'cores': 2, 'ram': 4, 'disk': 10, 'image': 'default_ubuntu_20', 'packages': ['net-tools', 'iperf3', 'moreutils']}, \n",
    " {'name': \"router\",  'cores': 2, 'ram': 4, 'disk': 10, 'image': 'default_ubuntu_20', 'packages': ['net-tools']}\n",
    "]\n",
    "net_conf = [\n",
    " {\"name\": \"net_r\", \"subnet\": \"10.10.1.0/24\", \"nodes\": [{\"name\": \"romeo\",  \"addr\": \"10.10.1.100\"}, {\"name\": \"router\", \"addr\": \"10.10.1.10\"}]},\n",
    " {\"name\": \"net_j\", \"subnet\": \"10.10.2.0/24\", \"nodes\": [{\"name\": \"juliet\", \"addr\": \"10.10.2.100\"}, {\"name\": \"router\", \"addr\": \"10.10.2.10\"}]},\n",
    "]\n",
    "route_conf = [\n",
    " {\"addr\": \"10.10.1.0/24\", \"gw\": \"10.10.2.10\", \"nodes\": [\"juliet\"]}, \n",
    " {\"addr\": \"10.10.2.0/24\", \"gw\": \"10.10.1.10\", \"nodes\": [\"romeo\"]}\n",
    "]\n",
    "exp_conf = {'cores': sum([ n['cores'] for n in node_conf]), 'nic': sum([len(n['nodes']) for n in net_conf]) }"
   ],
   "id": "d3af5abc-d49c-48bc-a0ba-9816b8fa529b"
  },
  {
   "cell_type": "markdown",
   "metadata": {},
   "source": [
    "### Reserve resources\n",
    "\n",
    "Now, we are ready to reserve resources!"
   ],
   "id": "89eb1f28-f027-49df-9883-7b28132d9361"
  },
  {
   "cell_type": "markdown",
   "metadata": {},
   "source": [
    "First, make sure you don’t already have a slice with this name:"
   ],
   "id": "751b4cf4-0cbc-4fb3-aab2-4f05c9782a81"
  },
  {
   "cell_type": "code",
   "execution_count": null,
   "metadata": {},
   "outputs": [],
   "source": [
    "try:\n",
    "    slice = fablib.get_slice(slice_name)\n",
    "    print(\"You already have a slice by this name!\")\n",
    "    print(\"If you previously reserved resources, skip to the 'log in to resources' section.\")\n",
    "except:\n",
    "    print(\"You don't have a slice named %s yet.\" % slice_name)\n",
    "    print(\"Continue to the next step to make one.\")\n",
    "    slice = fablib.new_slice(name=slice_name)"
   ],
   "id": "a2d8b4b7-e4d4-450f-825b-5fa27cfe576a"
  },
  {
   "cell_type": "markdown",
   "metadata": {},
   "source": [
    "We will select a random site that has sufficient resources for our experiment:"
   ],
   "id": "e51b9aff-a5d9-44ce-b99b-b32922a7f6d8"
  },
  {
   "cell_type": "code",
   "execution_count": null,
   "metadata": {},
   "outputs": [],
   "source": [
    "while True:\n",
    "    site_name = fablib.get_random_site()\n",
    "    if ( (fablib.resources.get_core_available(site_name) > 1.2*exp_conf['cores']) and\n",
    "        (fablib.resources.get_component_available(site_name, 'SharedNIC-ConnectX-6') > 1.2**exp_conf['nic']) ):\n",
    "        break\n",
    "\n",
    "fablib.show_site(site_name)"
   ],
   "id": "7a704bf8-7ad2-4ba8-9a95-17abc42c5071"
  },
  {
   "cell_type": "markdown",
   "metadata": {},
   "source": [
    "Then we will add hosts and network segments:"
   ],
   "id": "4722eb4b-bb74-4ca2-818c-3a3855abc102"
  },
  {
   "cell_type": "code",
   "execution_count": null,
   "metadata": {},
   "outputs": [],
   "source": [
    "# this cell sets up the nodes\n",
    "for n in node_conf:\n",
    "    slice.add_node(name=n['name'], site=site_name, \n",
    "                   cores=n['cores'], \n",
    "                   ram=n['ram'], \n",
    "                   disk=n['disk'], \n",
    "                   image=n['image'])"
   ],
   "id": "2cf1dc36-2fb5-417c-ac0e-5fcda65c0499"
  },
  {
   "cell_type": "code",
   "execution_count": null,
   "metadata": {},
   "outputs": [],
   "source": [
    "# this cell sets up the network segments\n",
    "for n in net_conf:\n",
    "    ifaces = [slice.get_node(node[\"name\"]).add_component(model=\"NIC_Basic\", \n",
    "                                                 name=n[\"name\"]).get_interfaces()[0] for node in n['nodes'] ]\n",
    "    slice.add_l2network(name=n[\"name\"], type='L2Bridge', interfaces=ifaces)"
   ],
   "id": "b0ec5e4d-b481-4a50-ab20-4b2b90c2b253"
  },
  {
   "cell_type": "markdown",
   "metadata": {},
   "source": [
    "The following cell submits our request to the FABRIC site. The output of this cell will update automatically as the status of our request changes.\n",
    "\n",
    "-   While it is being prepared, the “State” of the slice will appear as “Configuring”.\n",
    "-   When it is ready, the “State” of the slice will change to “StableOK”.\n",
    "\n",
    "You may prefer to walk away and come back in a few minutes (for simple slices) or a few tens of minutes (for more complicated slices with many resources)."
   ],
   "id": "3edc7641-2088-485a-9f40-32f5bc860db1"
  },
  {
   "cell_type": "code",
   "execution_count": null,
   "metadata": {},
   "outputs": [],
   "source": [
    "slice.submit()"
   ],
   "id": "89e10468-f650-42b5-aff0-c1c22f8723b0"
  },
  {
   "cell_type": "code",
   "execution_count": null,
   "metadata": {},
   "outputs": [],
   "source": [
    "slice.get_state()\n",
    "slice.wait_ssh(progress=True)"
   ],
   "id": "ce8e7295-db51-49f9-aa80-8204867e4d86"
  },
  {
   "cell_type": "markdown",
   "metadata": {},
   "source": [
    "### Configure resources\n",
    "\n",
    "Next, we will configure the resources so they are ready to use."
   ],
   "id": "055afdcd-e0a0-4696-85e3-8fbcc1b378fb"
  },
  {
   "cell_type": "code",
   "execution_count": null,
   "metadata": {},
   "outputs": [],
   "source": [
    "slice = fablib.get_slice(name=slice_name)"
   ],
   "id": "6c251ef9-124c-413d-8b96-12d8415b79be"
  },
  {
   "cell_type": "code",
   "execution_count": null,
   "metadata": {},
   "outputs": [],
   "source": [
    "# install packages\n",
    "# this will take a while and will run in background while you do other steps\n",
    "for n in node_conf:\n",
    "    if len(n['packages']):\n",
    "        node = slice.get_node(n['name'])\n",
    "        pkg = \" \".join(n['packages'])\n",
    "        node.execute_thread(\"sudo apt update; sudo apt -y install %s\" % pkg)"
   ],
   "id": "d98c7174-ed65-44b7-92c2-37fa8fb891c5"
  },
  {
   "cell_type": "code",
   "execution_count": null,
   "metadata": {},
   "outputs": [],
   "source": [
    "# bring interfaces up and either assign an address (if there is one) or flush address\n",
    "from ipaddress import ip_address, IPv4Address, IPv4Network\n",
    "\n",
    "for net in net_conf:\n",
    "    for n in net['nodes']:\n",
    "        if_name = n['name'] + '-' + net['name'] + '-p1'\n",
    "        iface = slice.get_interface(if_name)\n",
    "        iface.ip_link_up()\n",
    "        if n['addr']:\n",
    "            iface.ip_addr_add(addr=n['addr'], subnet=IPv4Network(net['subnet']))\n",
    "        else:\n",
    "            iface.get_node().execute(\"sudo ip addr flush dev %s\"  % iface.get_device_name())"
   ],
   "id": "c36a131e-cc8f-4883-9aba-782967d03324"
  },
  {
   "cell_type": "code",
   "execution_count": null,
   "metadata": {},
   "outputs": [],
   "source": [
    "# prepare a \"hosts\" file that has names and addresses of every node\n",
    "hosts_txt = [ \"%s\\t%s\" % ( n['addr'], n['name'] ) for net in net_conf  for n in net['nodes'] if type(n) is dict and n['addr']]\n",
    "for n in slice.get_nodes():\n",
    "    for h in hosts_txt:\n",
    "        n.execute(\"echo %s | sudo tee -a /etc/hosts\" % h)"
   ],
   "id": "1811a2a3-9c18-4b73-a5f0-e0f0e83190e6"
  },
  {
   "cell_type": "code",
   "execution_count": null,
   "metadata": {},
   "outputs": [],
   "source": [
    "# enable IPv4 forwarding on all nodes\n",
    "for n in slice.get_nodes():\n",
    "    n.execute(\"sudo sysctl -w net.ipv4.ip_forward=1\")"
   ],
   "id": "2e9363a4-0afb-4355-9a20-03060eb787a2"
  },
  {
   "cell_type": "code",
   "execution_count": null,
   "metadata": {},
   "outputs": [],
   "source": [
    "# set up static routes\n",
    "for rt in route_conf:\n",
    "    for n in rt['nodes']:\n",
    "        slice.get_node(name=n).ip_route_add(subnet=IPv4Network(rt['addr']), gateway=rt['gw'])"
   ],
   "id": "aa5b94bc-9588-41dd-82fe-5b31ea276c06"
  },
  {
   "cell_type": "code",
   "execution_count": null,
   "metadata": {},
   "outputs": [],
   "source": [
    "# enable nodes to access IPv4-only resources, such as Github,\n",
    "# even if the control interface is IPv6-only\n",
    "from ipaddress import ip_address, IPv6Address\n",
    "for node in slice.get_nodes():\n",
    "    if type(ip_address(node.get_management_ip())) is IPv6Address:\n",
    "        node.execute('echo \"DNS=2a00:1098:2c::1\" | sudo tee -a /etc/systemd/resolved.conf')\n",
    "        node.execute('sudo service systemd-resolved restart')\n",
    "        node.execute('echo \"127.0.0.1 $(hostname -s)\" | sudo tee -a /etc/hosts')\n",
    "        node.execute('sudo rm -f /etc/resolv.conf; sudo ln -sv /run/systemd/resolve/resolv.conf /etc/resolv.conf')"
   ],
   "id": "87d67883-a69b-408d-b6f8-1604a74a28fc"
  },
  {
   "cell_type": "markdown",
   "metadata": {},
   "source": [
    "### Draw the network topology"
   ],
   "id": "08f5b605-6362-4492-8cc0-a8d36c1ecd50"
  },
  {
   "cell_type": "markdown",
   "metadata": {},
   "source": [
    "The following cell will draw the network topology, for your reference. The interface name and addresses of each experiment interface will be shown on the drawing."
   ],
   "id": "51150517-972c-4d64-95af-f953196d92d8"
  },
  {
   "cell_type": "code",
   "execution_count": null,
   "metadata": {},
   "outputs": [],
   "source": [
    "l2_nets = [(n.get_name(), {'color': 'lavender'}) for n in slice.get_l2networks() ]\n",
    "l3_nets = [(n.get_name(), {'color': 'pink'}) for n in slice.get_l3networks() ]\n",
    "hosts   =   [(n.get_name(), {'color': 'lightblue'}) for n in slice.get_nodes()]\n",
    "nodes = l2_nets + l3_nets + hosts\n",
    "ifaces = [iface.toDict() for iface in slice.get_interfaces()]\n",
    "edges = [(iface['network'], iface['node'], \n",
    "          {'label': iface['physical_dev'] + '\\n' + iface['ip_addr'] + '\\n' + iface['mac']}) for iface in ifaces]"
   ],
   "id": "7c748ec8-7a85-4795-83d9-99f0f130c748"
  },
  {
   "cell_type": "code",
   "execution_count": null,
   "metadata": {},
   "outputs": [],
   "source": [
    "import networkx as nx\n",
    "import matplotlib.pyplot as plt\n",
    "plt.figure(figsize=(len(nodes),len(nodes)))\n",
    "G = nx.Graph()\n",
    "G.add_nodes_from(nodes)\n",
    "G.add_edges_from(edges)\n",
    "pos = nx.spring_layout(G)\n",
    "nx.draw(G, pos, node_shape='s',  \n",
    "        node_color=[n[1]['color'] for n in nodes], \n",
    "        node_size=[len(n[0])*400 for n in nodes],  \n",
    "        with_labels=True);\n",
    "nx.draw_networkx_edge_labels(G,pos,\n",
    "                             edge_labels=nx.get_edge_attributes(G,'label'),\n",
    "                             font_color='gray',  font_size=8, rotate=False);"
   ],
   "id": "90152259-8c4c-49ed-a136-7cdd90762e8a"
  },
  {
   "cell_type": "markdown",
   "metadata": {},
   "source": [
    "### Log into resources"
   ],
   "id": "af8f5ab7-57f5-4bf4-95cb-5ffa6cff9f38"
  },
  {
   "cell_type": "markdown",
   "metadata": {},
   "source": [
    "Now, we are finally ready to log in to our resources over SSH! Run the following cells, and observe the table output - you will see an SSH command for each of the resources in your topology."
   ],
   "id": "cf52e320-25e9-4a57-b1f6-2a572acf36b7"
  },
  {
   "cell_type": "code",
   "execution_count": null,
   "metadata": {},
   "outputs": [],
   "source": [
    "import pandas as pd\n",
    "pd.set_option('display.max_colwidth', None)\n",
    "slice_info = [{'Name': n.get_name(), 'SSH command': n.get_ssh_command()} for n in slice.get_nodes()]\n",
    "pd.DataFrame(slice_info).set_index('Name')"
   ],
   "id": "aa3e60d5-5e86-4d37-b170-8c428b185986"
  },
  {
   "cell_type": "markdown",
   "metadata": {},
   "source": [
    "Now, you can open an SSH session on any of the resources as follows:\n",
    "\n",
    "-   in Jupyter, from the menu bar, use File \\> New \\> Terminal to open a new terminal.\n",
    "-   copy an SSH command from the table, and paste it into the terminal. (Note that each SSH command is a single line, even if the display wraps the text to a second line! When you copy and paste it, paste it all together.)\n",
    "\n",
    "You can repeat this process (open several terminals) to start a session on each resource. Each terminal session will have a tab in the Jupyter environment, so that you can easily switch between them."
   ],
   "id": "6f94f7d2-fc84-46f8-a4c3-286cea918aa0"
  }
 ],
 "nbformat": 4,
 "nbformat_minor": 5,
 "metadata": {}
}
