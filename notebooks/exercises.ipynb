{
 "cells": [
  {
   "cell_type": "markdown",
   "metadata": {},
   "source": [
    "Exercises\n",
    "---------\n",
    "\n",
    "After you have run the experiment, answer the following questions:\n",
    "\n",
    "-   In constant bit rate experiment, did you observe any buffering in any of the DASH policies? Explain.\n",
    "-   In constant bit rate with interruptions experiment, did you see any buffering in basic, netflix and sara policies? Explain with the screenshots from your analysis. Also comment on how well each policy recovers from the buffering and which policy is most resilient to interruptions. \n",
    "-   In varying bit rate experiment, which of the DASH policy has better average video rate? Justify using the screenshots.\n",
    "\n",
    "The following questions requires you to modify certain parameters in each of the experiment:\n",
    "\n",
    "-   What happens when you increase the network capacity from 1Mbps to 4Mbps in constant bit rate experiment?\n",
    "\n",
    "Go to the client node rome and change the current directory to edit the config_dash.py file by running the following commands:\n",
    "\n",
    
    "``` bash\n",
    "cd ~/AStream/dist/client\n",
    "nano config_dash.py\n",
    "```\n",
    
    "Under the SARA section, change ALPHA_BUFFER_COUNT to 10 and BETA_BUFFER_COUNT to 15 and Ctrl+X, 'Y' for Yes and 'Enter' to save the changes and exit the file. Now perform the constant bit rate using SARA policy.\n",
    "\n",
    "Note: Revert the configuration changes back to initial settings(ALPHA_BUFFER_COUNT = 5 and BETA_BUFFER_COUNT = 10) by editing config_dash.py file after analysing the logs.\n",
    "\n",
    "-   Observe and explain how changing the buffer thresholds effects different metrics such as average video rate and number of bitrate switching events?\n",
    "\n",
    "Perform varying bit rate experiment with scaling factor of 0.25 for each DASH policy. On router node, run:\n",
    "\n",
    
    "``` bash\n",
    "bash rate-vary.sh ~/Dataset_1/Dataset/Ferry/Ferry5.csv 0.25\n",
    "```\n",
    
    "\n",
    "- What differences do you see in terms of different metrics by changing the scaling factor from 0.1 to 0.25 for each DASH policy?"
   ]
  },
  {
   "cell_type": "markdown",
   "metadata": {},
   "source": []
  }
 ],
 "metadata": {
  "kernelspec": {
   "display_name": "Python 3 (ipykernel)",
   "language": "python",
   "name": "python3"
  },
  "language_info": {
   "codemirror_mode": {
    "name": "ipython",
    "version": 3
   },
   "file_extension": ".py",
   "mimetype": "text/x-python",
   "name": "python",
   "nbconvert_exporter": "python",
   "pygments_lexer": "ipython3",
   "version": "3.9.7"
  }
 },
 "nbformat": 4,
 "nbformat_minor": 4
}
