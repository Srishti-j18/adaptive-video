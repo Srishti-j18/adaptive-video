{
 "cells": [
  {
   "cell_type": "markdown",
   "metadata": {},
   "source": [
    "## Configure FABRIC on Chameleon\n",
    "\n",
    "In this experiment, you will use the JupyterHub environment on Chameleon to reserve and access resources on the FABRIC testbed. First, you will need to configure your Chameleon environment, so that it will be able to use your FABRIC account.\n",
    "\n",
    "If you’ve already done this (for example, in a different experiment!) then you don’t have to do it again."
   ]
  },
  {
   "cell_type": "markdown",
   "metadata": {},
   "source": [
    "### Create a FABRIC configuration directory\n",
    "\n",
    "First, in your Chameleon JupyterHub environment, create a directory in which to store FABRIC configuration files:"
   ]
  },
  {
   "cell_type": "code",
   "execution_count": null,
   "metadata": {},
   "outputs": [],
   "source": [
    "%%bash\n",
    "mkdir -p ~/work/fabric_config"
   ]
  },
  {
   "cell_type": "markdown",
   "metadata": {},
   "source": [
    "### Get a FABRIC token and upload it to JupyterHub\n",
    "\n",
    "Now, you will need to create a FABRIC token, if you don’t currently have an active token.\n",
    "\n",
    "In the FABRIC portal, click on Experiments \\> Manage Tokens \\> Open FABRIC Credential Manager and log in. Then, in the “Create Token” section,\n",
    "\n",
    "-   Select your FABRIC project from the drop-down menu\n",
    "-   Leave the scope to All\n",
    "-   Click the “Create Token” button\n",
    "\n",
    "Click “Download” to download the token. Rename it to `id_token.json`.\n",
    "\n",
    "In your JupyterHub environment on Chameleon, upload `id_token.json` to your `~/work/fabric_config` directory. Verify that it is there:"
   ]
  },
  {
   "cell_type": "code",
   "execution_count": null,
   "metadata": {},
   "outputs": [],
   "source": [
    "%%bash\n",
    "[[ -f ~/work/fabric_config/id_token.json ]] && echo \"~/work/fabric_config/id_token.json exists.\""
   ]
  },
  {
   "cell_type": "markdown",
   "metadata": {},
   "source": [
    "Make sure the output of the cell above says: “~/work/fabric_config/id_token.json exists.”"
   ]
  },
  {
   "cell_type": "markdown",
   "metadata": {},
   "source": [
    "### Get a bastion keypair and upload it to JupyterHub\n",
    "\n",
    "To log in to resources on FABRIC, you will need a bastion keypair in your Chameleon JupyterHub environment."
   ]
  },
  {
   "cell_type": "markdown",
   "metadata": {},
   "source": [
    "If you already have a FABRIC bastion keypair (public and private key), upload them to the JupyterHub environment no Chameleon. Name the private and public key `fabric_chameleon_bkey` and `fabric_chameleon_bkey.pub`, respectively, and upload them to your `~/work/fabric_config` directory."
   ]
  },
  {
   "cell_type": "markdown",
   "metadata": {},
   "source": [
    "If you don’t already have a key pair, create one now. In the FABRIC portal, visit Experiments \\> Manage SSH Keys and scroll to the “Generate SSH Key Pair” section.\n",
    "\n",
    "Fill in details, make sure the key type is set to “bastion”, then click “Generate Key Pair”\n",
    "\n",
    "<figure>\n",
    "<img src=\"attachment:images/generate_fabric_bastion_key.png\" alt=\"Generate a bastion key pair\" />\n",
    "<figcaption aria-hidden=\"true\">Generate a bastion key pair</figcaption>\n",
    "</figure>\n",
    "\n",
    "Then, on the next screen, download both the public and private key. Upload them to your `~/work/fabric_config` directory in the Chameleon JupyterHub environment."
   ]
  },
  {
   "cell_type": "markdown",
   "metadata": {},
   "source": [
    "Verify that the bastion keypair is uploaded to the environment:"
   ]
  },
  {
   "cell_type": "code",
   "execution_count": null,
   "metadata": {},
   "outputs": [],
   "source": [
    "%%bash\n",
    "[[ -f ~/work/fabric_config/fabric_chameleon_bkey ]] && echo \"~/work/fabric_config/fabric_chameleon_bkey exists.\"\n",
    "[[ -f ~/work/fabric_config/fabric_chameleon_bkey.pub ]] && echo \"~/work/fabric_config/fabric_chameleon_bkey.pub exists.\""
   ]
  },
  {
   "cell_type": "markdown",
   "metadata": {},
   "source": [
    "Also make sure that the private key has the appropriate permissions set (not too open):"
   ]
  },
  {
   "cell_type": "code",
   "execution_count": null,
   "metadata": {},
   "outputs": [],
   "source": [
    "%%bash\n",
    "chmod 600  ~/work/fabric_config/fabric_chameleon_bkey "
   ]
  },
  {
   "cell_type": "markdown",
   "metadata": {},
   "source": [
    "### Generate slice keys\n",
    "\n",
    "In addition to the bastion key pair, you will also need to generate a slice key pair. You can generate a key pair with"
   ]
  },
  {
   "cell_type": "code",
   "execution_count": null,
   "metadata": {},
   "outputs": [],
   "source": [
    "%%bash\n",
    "ssh-keygen -t rsa -b 3072 -f ${HOME}/work/fabric_config/slice_key -q -N \"\""
   ]
  },
  {
   "cell_type": "markdown",
   "metadata": {},
   "source": [
    "Also make sure that the private key has the appropriate permissions set (not too open):"
   ]
  },
  {
   "cell_type": "code",
   "execution_count": null,
   "metadata": {},
   "outputs": [],
   "source": [
    "%%bash\n",
    "chmod 600  ~/work/fabric_config/slice_key "
   ]
  },
  {
   "cell_type": "markdown",
   "metadata": {},
   "source": [
    "### Set up environment variables and generate configuration files\n",
    "\n",
    "Now that all of the credential files we need exist in the Chameleon JupyterHub environment, we can set up configuration files.\n",
    "\n",
    "In the cell below, you will need to substitute your own FABRIC bastion username and FABRIC project ID in the places where it says `xxx`.\n",
    "\n",
    "-   You can find your bastion username in the FABRIC portal, under “User Profile” - scroll to the table at the bottom of that page and look for the value next to “Bastion login”.\n",
    "-   You can find your project ID in the FABRIC Portal, under “Projects” - click on the project that you want to use, scroll to the table at the bottom of that page, and look for the value next to “Project ID”.\n",
    "\n",
    "Then, this cell will generate configuration files with your FABRIC settings."
   ]
  },
  {
   "cell_type": "code",
   "execution_count": null,
   "metadata": {},
   "outputs": [],
   "source": [
    "%%bash \n",
    "\n",
    "# these two variables are specific to YOU - make sure to change them\n",
    "export FABRIC_BASTION_USERNAME=\"xxx\"\n",
    "export FABRIC_PROJECT_ID=\"xxx\"\n",
    "\n",
    "# these variables are specific to the filenames, locations etc. described above. \n",
    "# you may need to change them if you didn't follow the instructions above exactly.\n",
    "export FABRIC_TOKEN_LOCATION=${HOME}/work/fabric_config/id_token.json\n",
    "export FABRIC_BASTION_KEY_LOCATION=${HOME}/work/fabric_config/fabric_bastion_key\n",
    "export FABRIC_SLICE_PRIVATE_KEY_FILE=${HOME}/work/fabric_config/slice_key\n",
    "export FABRIC_SLICE_PUBLIC_KEY_FILE=${FABRIC_SLICE_PRIVATE_KEY_FILE}.pub\n",
    "\n",
    "\n",
    "# you shouldn't need to change these variables\n",
    "export FABRIC_CREDMGR_HOST=cm.fabric-testbed.net\n",
    "export FABRIC_ORCHESTRATOR_HOST=orchestrator.fabric-testbed.net\n",
    "\n",
    "\n",
    "# Now, write out the FABRIC config file\n",
    "export FABRIC_RC_FILE=${HOME}'/work/fabric_config/fabric_rc'\n",
    "\n",
    "cat <<EOF > ${FABRIC_RC_FILE}\n",
    "export FABRIC_CREDMGR_HOST=cm.fabric-testbed.net\n",
    "export FABRIC_ORCHESTRATOR_HOST=orchestrator.fabric-testbed.net\n",
    "\n",
    "export FABRIC_PROJECT_ID=${FABRIC_PROJECT_ID}\n",
    "export FABRIC_TOKEN_LOCATION=${FABRIC_TOKEN_LOCATION}\n",
    "\n",
    "export FABRIC_BASTION_HOST=bastion-1.fabric-testbed.net\n",
    "export FABRIC_BASTION_USERNAME=${FABRIC_BASTION_USERNAME}\n",
    "\n",
    "export FABRIC_BASTION_KEY_LOCATION=${FABRIC_BASTION_KEY_LOCATION}\n",
    "#export FABRIC_BASTION_KEY_PASSPHRASE=\n",
    "\n",
    "export FABRIC_SLICE_PRIVATE_KEY_FILE=${FABRIC_SLICE_PRIVATE_KEY_FILE}\n",
    "export FABRIC_SLICE_PUBLIC_KEY_FILE=${FABRIC_SLICE_PUBLIC_KEY_FILE} \n",
    "#export FABRIC_SLICE_PRIVATE_KEY_PASSPHRASE=\n",
    "\n",
    "export FABRIC_LOG_FILE=/tmp/fablib.log\n",
    "export FABRIC_LOG_LEVEL=INFO \n",
    "EOF\n",
    "\n",
    "# and an SSH config file\n",
    "export FABRIC_BASTION_SSH_CONFIG_FILE=${HOME}'/work/fabric_config/ssh_config'\n",
    "\n",
    "cat <<EOF > ${FABRIC_BASTION_SSH_CONFIG_FILE}\n",
    "UserKnownHostsFile /dev/null\n",
    "StrictHostKeyChecking no\n",
    "ServerAliveInterval 120 \n",
    "\n",
    "Host bastion-?.fabric-testbed.net\n",
    "     User ${FABRIC_BASTION_USERNAME}\n",
    "     ForwardAgent yes\n",
    "     Hostname %h\n",
    "     IdentityFile ${FABRIC_BASTION_KEY_LOCATION}\n",
    "     IdentitiesOnly yes\n",
    "\n",
    "Host * !bastion-?.fabric-testbed.net\n",
    "     ProxyJump ${FABRIC_BASTION_USERNAME}@bastion-1.fabric-testbed.net:22\n",
    "EOF"
   ]
  },
  {
   "cell_type": "markdown",
   "metadata": {},
   "source": [
    "### Install FABRIC tools on Chameleon\n",
    "\n",
    "Now, install Python libraries needed for FABRIC:"
   ]
  },
  {
   "cell_type": "code",
   "execution_count": null,
   "metadata": {},
   "outputs": [],
   "source": [
    "%%bash\n",
    "pip -q install --no-warn-script-location --upgrade --no-deps --force-reinstall jinja2 --user\n",
    "pip -q install --user fabrictestbed fabrictestbed-extensions"
   ]
  },
  {
   "cell_type": "markdown",
   "metadata": {},
   "source": [
    "### Verify your FABRIC configuration\n",
    "\n",
    "Finally, make sure your FABRIC configuration is loaded correctly."
   ]
  },
  {
   "cell_type": "code",
   "execution_count": null,
   "metadata": {},
   "outputs": [],
   "source": [
    "import os\n",
    "os.environ['FABRIC_RC_FILE']=os.environ['HOME']+'/work/fabric_config/fabric_rc'\n",
    "os.environ['FABRIC_BASTION_SSH_CONFIG_FILE']=os.environ['HOME']+'/work/fabric_config/ssh_config'\n",
    "\n",
    "from fabrictestbed_extensions.fablib.fablib import FablibManager as fablib_manager\n",
    "fablib = fablib_manager()        \n",
    "fablib.show_config()             "
   ]
  }
 ],
 "nbformat": 4,
 "nbformat_minor": 0,
 "metadata": {
  "kernelspec": {
   "name": "python",
   "display_name": "Python 3"
  }
 }
}
