{
 "cells": [
  {
   "cell_type": "markdown",
   "metadata": {},
   "source": [
    "## Execute constant bit rate experiment with interruption\n",
    "\n",
    "For this section, you will need an SSH session on the “router” node and one on the “romeo” node.\n",
    "\n",
    "In the experiment with constant bit rate, you may not have experienced any rebuffering.\n",
    "\n",
    "To see how the video client works when there is a temporary interruption in the network, try repeating this experiment, but during the video session, reduce the network data rate to a very low value in middle of the session.\n",
    "\n",
    "On the “router”, set a constant bit rate of 1000 Kbits/second with\n",
    "\n",
    "``` bash\n",
    "bash rate-set.sh 1000Kbit\n",
    "```\n",
    "\n",
    "Then, on the client (“romeo”), start the DASH player with the “basic” adaptation policy:\n",
    "\n",
    "``` bash\n",
    "python3 ~/AStream/dist/client/dash_client.py -m http://juliet/media/BigBuckBunny/4sec/BigBuckBunny_4s.mpd -p 'basic' -d\n",
    "```\n",
    "\n",
    "Leave this running for one minute (60 seconds). Then, on the “router”, reduce the network data rate to 100 Kbits/second:\n",
    "\n",
    "    bash rate-set.sh 100Kbit\n",
    "\n",
    "After another 60 seconds, restore the original data rate:\n",
    "\n",
    "    bash rate-set.sh 1000Kbit\n",
    "\n",
    "As before, the logs produced by the client will be located inside a directory named `ASTREAM_LOGS` in your home directory on the “romeo” node. Copy the file associated with *this* experiment to `~/ASTREAM_LOGS/DASH_BUFFER_LOG_last.csv` with\n",
    "\n",
    "``` bash\n",
    "cp $(ls -t1  ~/ASTREAM_LOGS/DASH_BUFFER_LOG_*  | head -n 1 ) ~/ASTREAM_LOGS/DASH_BUFFER_LOG-last.csv\n",
    "```\n",
    "\n",
    "Also reconstruct the video that was delivered to the client. Use\n",
    "\n",
    "``` bash\n",
    "suffix=$(ls -lt | grep \"TEMP_\" | head -n 1 | cut -f2 -d\"_\")\n",
    "cd ~/TEMP_$suffix\n",
    "rm -f ~/BigBuckBunny.mp4 # if it exists\n",
    "cat BigBuckBunny_4s_init.mp4 $(ls -vx BigBuckBunny_*.m4s) > BigBuckBunny_tmp.mp4\n",
    "ffmpeg -i  BigBuckBunny_tmp.mp4 -c copy ~/BigBuckBunny.mp4\n",
    "cd ~\n",
    "```\n",
    "\n",
    "to combine the video segments into a `BigBuckBunny.mp4` file in your home directory.\n",
    "\n",
    "Then, you can repeat the data analysis steps as before."
   ]
  }
 ],
 "nbformat": 4,
 "nbformat_minor": 0,
 "metadata": {
  "kernelspec": {
   "name": "python",
   "display_name": "Python 3"
  }
 }
}
